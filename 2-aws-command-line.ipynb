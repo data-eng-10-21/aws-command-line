{
 "cells": [
  {
   "cell_type": "markdown",
   "metadata": {},
   "source": [
    "# Setting up the AWS CLI"
   ]
  },
  {
   "cell_type": "markdown",
   "metadata": {},
   "source": [
    "### Introduction"
   ]
  },
  {
   "cell_type": "markdown",
   "metadata": {},
   "source": [
    "Now that we've created a new IAM user on our account, it's time setup access to our account through the AWS CLI.  The AWS CLI allows us to manage our AWS resources directly through the terminal.  This can a faster way to manage our AWS resources, and will also allow us to connect our AWS account to other programs.  \n",
    "\n",
    "In this lesson, we'll simply install the service and connect it to our account.  Let's get started."
   ]
  },
  {
   "cell_type": "markdown",
   "metadata": {},
   "source": [
    "### Getting Started"
   ]
  },
  {
   "cell_type": "markdown",
   "metadata": {},
   "source": [
    "Now we can install the AWS CLI as a pip package on our computer.  \n",
    "\n",
    "1. To start, let's **uninstall** any potentially existing aws cli."
   ]
  },
  {
   "cell_type": "markdown",
   "metadata": {},
   "source": [
    "> `pip uninstall awscli`\n",
    "\n",
    "> `pip3 uninstall awscli`"
   ]
  },
  {
   "cell_type": "markdown",
   "metadata": {},
   "source": [
    "2. And then **install** the AWS CLI with the following:"
   ]
  },
  {
   "cell_type": "markdown",
   "metadata": {},
   "source": [
    "> `pip3 install awscli --ignore-installed six`"
   ]
  },
  {
   "cell_type": "markdown",
   "metadata": {},
   "source": [
    "3. Then the terminal, type in aws to see that it was installed properly by typing `aws`."
   ]
  },
  {
   "cell_type": "markdown",
   "metadata": {},
   "source": [
    "```bash \n",
    "aws\n",
    "\n",
    "Usage: aws [options] <command> <subcommand> [<subcommand> ...] [parameters]\n",
    "To see help text, you can run:\n",
    "\n",
    "  aws help\n",
    "  aws <command> help\n",
    "  aws <command> <subcommand> help\n",
    "```"
   ]
  },
  {
   "cell_type": "markdown",
   "metadata": {},
   "source": [
    "> We also may get a message about how to install aws version 2.  Let's not go down that rabbit hole."
   ]
  },
  {
   "cell_type": "markdown",
   "metadata": {},
   "source": [
    "### Configuring AWS"
   ]
  },
  {
   "cell_type": "markdown",
   "metadata": {},
   "source": [
    "Ok, next we need to grant AWS our credentials.  To do this, we'll need the `new_user_credentials.csv` file that we downloaded when setting up our IAM user."
   ]
  },
  {
   "cell_type": "markdown",
   "metadata": {},
   "source": [
    "<img src=\"./iam-success.png\" width=\"50%\">"
   ]
  },
  {
   "cell_type": "markdown",
   "metadata": {},
   "source": [
    "> We downloaded the CSV file from the page above.    "
   ]
  },
  {
   "cell_type": "markdown",
   "metadata": {},
   "source": [
    "We can use the credentials in our CSV file to login to the AWS CLI and connect our account.  First enter `aws configure`.  Then enter your credentials in the prompt that follows."
   ]
  },
  {
   "cell_type": "markdown",
   "metadata": {},
   "source": [
    "```bash\n",
    "$ aws configure\n",
    "AWS Access Key ID [None]: <access key>\n",
    "AWS Secret Access Key [None]: <secret access key>\n",
    "Default region name [None]: us-east-1\n",
    "Default output format [None]: json\n",
    "```"
   ]
  },
  {
   "cell_type": "markdown",
   "metadata": {},
   "source": [
    "### Exploring the CLI"
   ]
  },
  {
   "cell_type": "markdown",
   "metadata": {},
   "source": [
    "Ok, now we are properly setup with the AWS CLI, and we have connected our IAM user to the CLI.  We can explore some of the things we can do with the CLI by typing in `aws help`."
   ]
  },
  {
   "cell_type": "markdown",
   "metadata": {},
   "source": [
    "> If we press the spacebar we can continue reading the documentation, and press `q` to exit out of the documentation."
   ]
  },
  {
   "cell_type": "markdown",
   "metadata": {},
   "source": [
    "We can confirm that we properly registered our user by typing the following:"
   ]
  },
  {
   "cell_type": "markdown",
   "metadata": {},
   "source": [
    "* `aws iam list-users`\n",
    "\n",
    "```bash\n",
    "aws iam list-users\n",
    "{\n",
    "    \"Users\": [\n",
    "        {\n",
    "            \"Path\": \"/\",\n",
    "            \"UserName\": \"dev-access\",\n",
    "            \"UserId\": \"AIDARMQQ4QECBU5KHFXGU\",\n",
    "            \"Arn\": \"arn:aws:iam::095598444804:user/dev-access\",\n",
    "            \"CreateDate\": \"2020-12-15T16:15:31+00:00\",\n",
    "            \"PasswordLastUsed\": \"2021-01-04T18:50:12+00:00\"\n",
    "        },\n",
    "        {\n",
    "            \"Path\": \"/\",\n",
    "            \"UserName\": \"docker-aws\",\n",
    "            \"UserId\": \"AIDARMQQ4QECMFSK54EBX\",\n",
    "            \"Arn\": \"arn:aws:iam::095598444804:user/docker-aws\",\n",
    "            \"CreateDate\": \"2020-11-02T15:29:31+00:00\"\n",
    "        }\n",
    "    ]\n",
    "}\n",
    "```"
   ]
  },
  {
   "cell_type": "markdown",
   "metadata": {},
   "source": [
    "### Summary"
   ]
  },
  {
   "cell_type": "markdown",
   "metadata": {},
   "source": [
    "In this lesson, we worked through setting up the aws command line interface.  We then saw that we can explore the AWS cli using the help command.  In the lessons that follow, we'll use the CLI to set up our EC2 instances."
   ]
  }
 ],
 "metadata": {
  "kernelspec": {
   "display_name": "Python 3",
   "language": "python",
   "name": "python3"
  },
  "language_info": {
   "codemirror_mode": {
    "name": "ipython",
    "version": 3
   },
   "file_extension": ".py",
   "mimetype": "text/x-python",
   "name": "python",
   "nbconvert_exporter": "python",
   "pygments_lexer": "ipython3",
   "version": "3.9.1"
  }
 },
 "nbformat": 4,
 "nbformat_minor": 4
}
